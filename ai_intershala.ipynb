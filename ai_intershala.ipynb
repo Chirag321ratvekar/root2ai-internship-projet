{
  "nbformat": 4,
  "nbformat_minor": 0,
  "metadata": {
    "colab": {
      "name": "ai-intershala.ipynb",
      "provenance": [],
      "collapsed_sections": []
    },
    "kernelspec": {
      "name": "python3",
      "display_name": "Python 3"
    },
    "language_info": {
      "name": "python"
    }
  },
  "cells": [
    {
      "cell_type": "code",
      "metadata": {
        "id": "tWdl6a3c6R-T"
      },
      "source": [
        "from google.colab import drive\n"
      ],
      "execution_count": 98,
      "outputs": []
    },
    {
      "cell_type": "code",
      "metadata": {
        "colab": {
          "base_uri": "https://localhost:8080/"
        },
        "id": "G3EnmFHl6Y6w",
        "outputId": "c735bbbf-6cba-4eba-c689-ad67bff8911e"
      },
      "source": [
        "drive.mount('/content/drive')\n"
      ],
      "execution_count": 99,
      "outputs": [
        {
          "output_type": "stream",
          "text": [
            "Drive already mounted at /content/drive; to attempt to forcibly remount, call drive.mount(\"/content/drive\", force_remount=True).\n"
          ],
          "name": "stdout"
        }
      ]
    },
    {
      "cell_type": "code",
      "metadata": {
        "id": "i-uljxwM6aSx"
      },
      "source": [
        "import pandas as pd\n",
        "\n",
        "import matplotlib.pyplot as plt\n",
        "import seaborn as sns\n",
        "%matplotlib inline\n",
        "import matplotlib\n"
      ],
      "execution_count": 100,
      "outputs": []
    },
    {
      "cell_type": "code",
      "metadata": {
        "id": "eb46dJTT6eAU"
      },
      "source": [
        "data = pd.read_csv('/content/drive/MyDrive/dataset/root2ai.csv')"
      ],
      "execution_count": 101,
      "outputs": []
    },
    {
      "cell_type": "code",
      "metadata": {
        "colab": {
          "base_uri": "https://localhost:8080/",
          "height": 195
        },
        "id": "JMV_K47L6-Cp",
        "outputId": "50a3fa82-3a8d-4f4f-a450-67a4377c2d3f"
      },
      "source": [
        "data.head()"
      ],
      "execution_count": 102,
      "outputs": [
        {
          "output_type": "execute_result",
          "data": {
            "text/html": [
              "<div>\n",
              "<style scoped>\n",
              "    .dataframe tbody tr th:only-of-type {\n",
              "        vertical-align: middle;\n",
              "    }\n",
              "\n",
              "    .dataframe tbody tr th {\n",
              "        vertical-align: top;\n",
              "    }\n",
              "\n",
              "    .dataframe thead th {\n",
              "        text-align: right;\n",
              "    }\n",
              "</style>\n",
              "<table border=\"1\" class=\"dataframe\">\n",
              "  <thead>\n",
              "    <tr style=\"text-align: right;\">\n",
              "      <th></th>\n",
              "      <th>Text</th>\n",
              "      <th>Target</th>\n",
              "    </tr>\n",
              "  </thead>\n",
              "  <tbody>\n",
              "    <tr>\n",
              "      <th>0</th>\n",
              "      <td>reserve bank forming expert committee based in...</td>\n",
              "      <td>Blockchain</td>\n",
              "    </tr>\n",
              "    <tr>\n",
              "      <th>1</th>\n",
              "      <td>director could play role financial system</td>\n",
              "      <td>Blockchain</td>\n",
              "    </tr>\n",
              "    <tr>\n",
              "      <th>2</th>\n",
              "      <td>preliminary discuss secure transaction study r...</td>\n",
              "      <td>Blockchain</td>\n",
              "    </tr>\n",
              "    <tr>\n",
              "      <th>3</th>\n",
              "      <td>security indeed prove essential transforming f...</td>\n",
              "      <td>Blockchain</td>\n",
              "    </tr>\n",
              "    <tr>\n",
              "      <th>4</th>\n",
              "      <td>bank settlement normally take three days based...</td>\n",
              "      <td>Blockchain</td>\n",
              "    </tr>\n",
              "  </tbody>\n",
              "</table>\n",
              "</div>"
            ],
            "text/plain": [
              "                                                Text      Target\n",
              "0  reserve bank forming expert committee based in...  Blockchain\n",
              "1          director could play role financial system  Blockchain\n",
              "2  preliminary discuss secure transaction study r...  Blockchain\n",
              "3  security indeed prove essential transforming f...  Blockchain\n",
              "4  bank settlement normally take three days based...  Blockchain"
            ]
          },
          "metadata": {
            "tags": []
          },
          "execution_count": 102
        }
      ]
    },
    {
      "cell_type": "code",
      "metadata": {
        "colab": {
          "base_uri": "https://localhost:8080/"
        },
        "id": "uQyACS8M7G5s",
        "outputId": "df584126-882a-4878-9641-8ed43a4fca31"
      },
      "source": [
        "data.shape"
      ],
      "execution_count": 103,
      "outputs": [
        {
          "output_type": "execute_result",
          "data": {
            "text/plain": [
              "(22704, 2)"
            ]
          },
          "metadata": {
            "tags": []
          },
          "execution_count": 103
        }
      ]
    },
    {
      "cell_type": "code",
      "metadata": {
        "colab": {
          "base_uri": "https://localhost:8080/"
        },
        "id": "kIqe83-U7N8Z",
        "outputId": "9ce8be64-9a87-4b0e-cb6d-2b1e3bdf552e"
      },
      "source": [
        "data.Text"
      ],
      "execution_count": 104,
      "outputs": [
        {
          "output_type": "execute_result",
          "data": {
            "text/plain": [
              "0        reserve bank forming expert committee based in...\n",
              "1                director could play role financial system\n",
              "2        preliminary discuss secure transaction study r...\n",
              "3        security indeed prove essential transforming f...\n",
              "4        bank settlement normally take three days based...\n",
              "                               ...                        \n",
              "22699    fourth study discusses blockchain technology e...\n",
              "22700    book finishes stating biggest issue emerging F...\n",
              "22701                                  people culture cess\n",
              "22702    author challenges execu tive lead change stop ...\n",
              "22703    change data driven culture come bottom must start\n",
              "Name: Text, Length: 22704, dtype: object"
            ]
          },
          "metadata": {
            "tags": []
          },
          "execution_count": 104
        }
      ]
    },
    {
      "cell_type": "code",
      "metadata": {
        "colab": {
          "base_uri": "https://localhost:8080/"
        },
        "id": "Rh1TPec27g1V",
        "outputId": "d93a18fa-af62-4123-8186-55696d4f38f3"
      },
      "source": [
        "data.Target"
      ],
      "execution_count": 105,
      "outputs": [
        {
          "output_type": "execute_result",
          "data": {
            "text/plain": [
              "0        Blockchain\n",
              "1        Blockchain\n",
              "2        Blockchain\n",
              "3        Blockchain\n",
              "4        Blockchain\n",
              "            ...    \n",
              "22699      Reg Tech\n",
              "22700      Reg Tech\n",
              "22701      Reg Tech\n",
              "22702      Reg Tech\n",
              "22703      Reg Tech\n",
              "Name: Target, Length: 22704, dtype: object"
            ]
          },
          "metadata": {
            "tags": []
          },
          "execution_count": 105
        }
      ]
    },
    {
      "cell_type": "code",
      "metadata": {
        "colab": {
          "base_uri": "https://localhost:8080/"
        },
        "id": "hLprOV7vleLC",
        "outputId": "4be6a3c5-42fc-4142-89a5-904b3fff28e2"
      },
      "source": [
        "num_rows = data.shape[0]\n",
        "print(num_rows)"
      ],
      "execution_count": 106,
      "outputs": [
        {
          "output_type": "stream",
          "text": [
            "22704\n"
          ],
          "name": "stdout"
        }
      ]
    },
    {
      "cell_type": "code",
      "metadata": {
        "colab": {
          "base_uri": "https://localhost:8080/"
        },
        "id": "ccB6I9T_leOH",
        "outputId": "a01ecf36-7d2f-4f1d-83be-14a828b3fbc2"
      },
      "source": [
        "num_cols = data.shape[1]\n",
        "print(num_cols)"
      ],
      "execution_count": 107,
      "outputs": [
        {
          "output_type": "stream",
          "text": [
            "2\n"
          ],
          "name": "stdout"
        }
      ]
    },
    {
      "cell_type": "code",
      "metadata": {
        "id": "oOkMBhdg7sE6"
      },
      "source": [
        "X = data.Text\n",
        "Y = data.Target"
      ],
      "execution_count": 108,
      "outputs": []
    },
    {
      "cell_type": "code",
      "metadata": {
        "colab": {
          "base_uri": "https://localhost:8080/"
        },
        "id": "JzLAQmuR70y3",
        "outputId": "c618b04e-a277-41aa-ba44-505d68ae6410"
      },
      "source": [
        "X.shape"
      ],
      "execution_count": 109,
      "outputs": [
        {
          "output_type": "execute_result",
          "data": {
            "text/plain": [
              "(22704,)"
            ]
          },
          "metadata": {
            "tags": []
          },
          "execution_count": 109
        }
      ]
    },
    {
      "cell_type": "code",
      "metadata": {
        "colab": {
          "base_uri": "https://localhost:8080/"
        },
        "id": "7IdbuVLL73fu",
        "outputId": "d089a554-18aa-49dd-e11f-b9554c256164"
      },
      "source": [
        "Y.shape"
      ],
      "execution_count": 110,
      "outputs": [
        {
          "output_type": "execute_result",
          "data": {
            "text/plain": [
              "(22704,)"
            ]
          },
          "metadata": {
            "tags": []
          },
          "execution_count": 110
        }
      ]
    },
    {
      "cell_type": "code",
      "metadata": {
        "colab": {
          "base_uri": "https://localhost:8080/"
        },
        "id": "YRdrkw6Qoehu",
        "outputId": "a3b494fa-1818-4f44-e73e-e58f2eb88096"
      },
      "source": [
        "data.info()"
      ],
      "execution_count": 111,
      "outputs": [
        {
          "output_type": "stream",
          "text": [
            "<class 'pandas.core.frame.DataFrame'>\n",
            "RangeIndex: 22704 entries, 0 to 22703\n",
            "Data columns (total 2 columns):\n",
            " #   Column  Non-Null Count  Dtype \n",
            "---  ------  --------------  ----- \n",
            " 0   Text    22701 non-null  object\n",
            " 1   Target  22704 non-null  object\n",
            "dtypes: object(2)\n",
            "memory usage: 354.9+ KB\n"
          ],
          "name": "stdout"
        }
      ]
    },
    {
      "cell_type": "code",
      "metadata": {
        "colab": {
          "base_uri": "https://localhost:8080/"
        },
        "id": "7SpJUTUfpSwF",
        "outputId": "dfe80365-5568-420e-d902-816af3044ce1"
      },
      "source": [
        "data.nunique()"
      ],
      "execution_count": 112,
      "outputs": [
        {
          "output_type": "execute_result",
          "data": {
            "text/plain": [
              "Text      20986\n",
              "Target       11\n",
              "dtype: int64"
            ]
          },
          "metadata": {
            "tags": []
          },
          "execution_count": 112
        }
      ]
    },
    {
      "cell_type": "code",
      "metadata": {
        "colab": {
          "base_uri": "https://localhost:8080/"
        },
        "id": "q5D3TKJEpmcw",
        "outputId": "0cc79820-fab5-479c-c797-b6b7a23ffd8f"
      },
      "source": [
        "data.isnull().values.any()"
      ],
      "execution_count": 113,
      "outputs": [
        {
          "output_type": "execute_result",
          "data": {
            "text/plain": [
              "True"
            ]
          },
          "metadata": {
            "tags": []
          },
          "execution_count": 113
        }
      ]
    },
    {
      "cell_type": "code",
      "metadata": {
        "colab": {
          "base_uri": "https://localhost:8080/"
        },
        "id": "tydlNovLps_g",
        "outputId": "faf55146-9ce6-438c-98cc-4dd58ccea73a"
      },
      "source": [
        "data.isnull().sum().sum()"
      ],
      "execution_count": 114,
      "outputs": [
        {
          "output_type": "execute_result",
          "data": {
            "text/plain": [
              "3"
            ]
          },
          "metadata": {
            "tags": []
          },
          "execution_count": 114
        }
      ]
    },
    {
      "cell_type": "code",
      "metadata": {
        "colab": {
          "base_uri": "https://localhost:8080/",
          "height": 281
        },
        "id": "Nwo6GEdEp0Wf",
        "outputId": "4333371c-d8e6-49d2-fd56-fc759e88d054"
      },
      "source": [
        "sns.heatmap(data.isnull(), cbar=False)\n",
        "plt.title('Null Values Heatmap')\n",
        "plt.show()"
      ],
      "execution_count": 115,
      "outputs": [
        {
          "output_type": "display_data",
          "data": {
            "image/png": "[encoded data removed]",
            "text/plain": [
              "<Figure size 432x288 with 1 Axes>"
            ]
          },
          "metadata": {
            "tags": [],
            "needs_background": "light"
          }
        }
      ]
    },
    {
      "cell_type": "code",
      "metadata": {
        "colab": {
          "base_uri": "https://localhost:8080/"
        },
        "id": "_lA0-BgUqV0A",
        "outputId": "60921ebd-1e27-49a8-cd1a-4ca15f5de0f9"
      },
      "source": [
        "data.isnull().sum()"
      ],
      "execution_count": 116,
      "outputs": [
        {
          "output_type": "execute_result",
          "data": {
            "text/plain": [
              "Text      3\n",
              "Target    0\n",
              "dtype: int64"
            ]
          },
          "metadata": {
            "tags": []
          },
          "execution_count": 116
        }
      ]
    },
    {
      "cell_type": "code",
      "metadata": {
        "colab": {
          "base_uri": "https://localhost:8080/"
        },
        "id": "B7-V-yO5ave4",
        "outputId": "eef0ad5a-4574-4a81-a0a7-2ef4eed65339"
      },
      "source": [
        "data.isnull().any()"
      ],
      "execution_count": 117,
      "outputs": [
        {
          "output_type": "execute_result",
          "data": {
            "text/plain": [
              "Text       True\n",
              "Target    False\n",
              "dtype: bool"
            ]
          },
          "metadata": {
            "tags": []
          },
          "execution_count": 117
        }
      ]
    },
    {
      "cell_type": "code",
      "metadata": {
        "id": "qUjF0HKHqd3g"
      },
      "source": [
        "#data = data.drop('Text', 1) //To Drop the whole column of dataset"
      ],
      "execution_count": 118,
      "outputs": []
    },
    {
      "cell_type": "code",
      "metadata": {
        "id": "e-MMw9Inl01K"
      },
      "source": [
        ""
      ],
      "execution_count": 118,
      "outputs": []
    },
    {
      "cell_type": "code",
      "metadata": {
        "id": "8Ll_MsqVbVMD"
      },
      "source": [
        "import seaborn as sns\n",
        "import matplotlib\n",
        "import matplotlib.pyplot as plt\n",
        "%matplotlib inline\n",
        "\n",
        "sns.set_style('darkgrid')\n",
        "matplotlib.rcParams['font.size'] = 14\n",
        "matplotlib.rcParams['figure.figsize'] = (9, 5)\n",
        "matplotlib.rcParams['figure.facecolor'] = '#00000000'"
      ],
      "execution_count": 119,
      "outputs": []
    },
    {
      "cell_type": "code",
      "metadata": {
        "colab": {
          "base_uri": "https://localhost:8080/"
        },
        "id": "ofxu8M7l74t7",
        "outputId": "0201d4f2-882d-4a4c-aba2-b2177769025c"
      },
      "source": [
        "input_cols = list(data.columns.values)\n",
        "input_cols.remove('Target')\n",
        "print(input_cols)"
      ],
      "execution_count": 120,
      "outputs": [
        {
          "output_type": "stream",
          "text": [
            "['Text']\n"
          ],
          "name": "stdout"
        }
      ]
    },
    {
      "cell_type": "code",
      "metadata": {
        "id": "nneMayt_7-RH",
        "colab": {
          "base_uri": "https://localhost:8080/"
        },
        "outputId": "0ce85e99-4223-4493-bbf8-d98d5097d710"
      },
      "source": [
        "categorical_cols = data.select_dtypes('object').columns.to_list()\n",
        "print(categorical_cols)"
      ],
      "execution_count": 121,
      "outputs": [
        {
          "output_type": "stream",
          "text": [
            "['Text', 'Target']\n"
          ],
          "name": "stdout"
        }
      ]
    },
    {
      "cell_type": "code",
      "metadata": {
        "colab": {
          "base_uri": "https://localhost:8080/"
        },
        "id": "Wf6Z5DPJmZ4q",
        "outputId": "605f4a57-8b9d-4df2-8ec9-55ac24a0c590"
      },
      "source": [
        "output_cols = [data.columns[1]]\n",
        "print(output_cols)"
      ],
      "execution_count": 122,
      "outputs": [
        {
          "output_type": "stream",
          "text": [
            "['Target']\n"
          ],
          "name": "stdout"
        }
      ]
    },
    {
      "cell_type": "code",
      "metadata": {
        "id": "SEOiATbeuUlp"
      },
      "source": [
        "##  input_cols = Text   &   Output_cols = Target"
      ],
      "execution_count": 123,
      "outputs": []
    },
    {
      "cell_type": "markdown",
      "metadata": {
        "id": "h8Iucaieu1y4"
      },
      "source": [
        "**Prepare the dataset for training**"
      ]
    },
    {
      "cell_type": "code",
      "metadata": {
        "id": "e9XJ25PQunCU"
      },
      "source": [
        "def data_to_arrays(data):\n",
        "    # Make a copy of the original dataframe\n",
        "    dataframe1 = data.copy(deep=True)\n",
        "    # Convert non-numeric categorical columns to numbers\n",
        "    for col in categorical_cols:\n",
        "        dataframe1[col] = dataframe1[col].astype('category').cat.codes\n",
        "    \n",
        "    # Extract input & outupts as numpy arrays\n",
        "    inputs_array = dataframe1[input_cols].to_numpy()\n",
        "    targets_array = dataframe1[output_cols].to_numpy()\n",
        "    return inputs_array, targets_array"
      ],
      "execution_count": 124,
      "outputs": []
    },
    {
      "cell_type": "code",
      "metadata": {
        "colab": {
          "base_uri": "https://localhost:8080/"
        },
        "id": "GxJ1JifJvHcy",
        "outputId": "c6086b16-0f20-4075-e3d5-03842284502c"
      },
      "source": [
        "inputs_array, targets_array = data_to_arrays(data)\n",
        "inputs_array, targets_array"
      ],
      "execution_count": 125,
      "outputs": [
        {
          "output_type": "execute_result",
          "data": {
            "text/plain": [
              "(array([[15143],\n",
              "        [ 6575],\n",
              "        [14019],\n",
              "        ...,\n",
              "        [13603],\n",
              "        [ 3257],\n",
              "        [ 4465]], dtype=int16), array([[1],\n",
              "        [1],\n",
              "        [1],\n",
              "        ...,\n",
              "        [7],\n",
              "        [7],\n",
              "        [7]], dtype=int8))"
            ]
          },
          "metadata": {
            "tags": []
          },
          "execution_count": 125
        }
      ]
    },
    {
      "cell_type": "code",
      "metadata": {
        "id": "Ohu09R7gvdPy"
      },
      "source": [
        "import torch\n",
        "import matplotlib.pyplot as plt\n",
        "import torch.nn.functional as F\n",
        "import torch.nn as nn\n",
        "from torchvision.datasets.utils import download_url\n",
        "from torch.utils.data import DataLoader, TensorDataset, random_split"
      ],
      "execution_count": 126,
      "outputs": []
    },
    {
      "cell_type": "code",
      "metadata": {
        "colab": {
          "base_uri": "https://localhost:8080/"
        },
        "id": "96YAYYuGvOWW",
        "outputId": "1856b800-d2a2-484e-c085-9ae193b1d3a6"
      },
      "source": [
        "inputs = torch.from_numpy(inputs_array).type(torch.float32)\n",
        "print(inputs)\n",
        "\n",
        "targets = torch.from_numpy(targets_array).type(torch.float32)\n",
        "print(targets)"
      ],
      "execution_count": 127,
      "outputs": [
        {
          "output_type": "stream",
          "text": [
            "tensor([[15143.],\n",
            "        [ 6575.],\n",
            "        [14019.],\n",
            "        ...,\n",
            "        [13603.],\n",
            "        [ 3257.],\n",
            "        [ 4465.]])\n",
            "tensor([[1.],\n",
            "        [1.],\n",
            "        [1.],\n",
            "        ...,\n",
            "        [7.],\n",
            "        [7.],\n",
            "        [7.]])\n"
          ],
          "name": "stdout"
        }
      ]
    },
    {
      "cell_type": "code",
      "metadata": {
        "id": "_3-X_v5WvVRm",
        "colab": {
          "base_uri": "https://localhost:8080/"
        },
        "outputId": "62458bc9-a399-4849-dc96-5f86d971e273"
      },
      "source": [
        "inputs.dtype, targets.dtype"
      ],
      "execution_count": 128,
      "outputs": [
        {
          "output_type": "execute_result",
          "data": {
            "text/plain": [
              "(torch.float32, torch.float32)"
            ]
          },
          "metadata": {
            "tags": []
          },
          "execution_count": 128
        }
      ]
    },
    {
      "cell_type": "code",
      "metadata": {
        "id": "xYPHhVl97X31"
      },
      "source": [
        "dataset = TensorDataset(inputs, targets)"
      ],
      "execution_count": 129,
      "outputs": []
    },
    {
      "cell_type": "code",
      "metadata": {
        "id": "OmVqdhKt7dzw"
      },
      "source": [
        "val_percent = 0.17                      # between 0.1 and 0.2\n",
        "val_size = int(num_rows * val_percent)\n",
        "train_size = num_rows - val_size\n",
        "\n",
        "train_ds, val_ds = random_split(dataset, [train_size, val_size]) \n"
      ],
      "execution_count": 130,
      "outputs": []
    },
    {
      "cell_type": "code",
      "metadata": {
        "id": "UK8r798Z8IJs"
      },
      "source": [
        "batch_size = 77"
      ],
      "execution_count": 131,
      "outputs": []
    },
    {
      "cell_type": "code",
      "metadata": {
        "id": "JHwtktQ58OkS"
      },
      "source": [
        "train_loader = DataLoader(train_ds, batch_size, shuffle=True)\n",
        "val_loader = DataLoader(val_ds, batch_size)"
      ],
      "execution_count": 132,
      "outputs": []
    },
    {
      "cell_type": "code",
      "metadata": {
        "colab": {
          "base_uri": "https://localhost:8080/"
        },
        "id": "79RXaI448Qcg",
        "outputId": "302c5d25-4466-43b1-b0db-c7ae65bec763"
      },
      "source": [
        "for xb, yb in train_loader:\n",
        "    print(\"inputs:\", xb)\n",
        "    print(\"targets:\", yb)\n",
        "    break"
      ],
      "execution_count": 133,
      "outputs": [
        {
          "output_type": "stream",
          "text": [
            "inputs: tensor([[15518.],\n",
            "        [19526.],\n",
            "        [12519.],\n",
            "        [ 7518.],\n",
            "        [  165.],\n",
            "        [ 6799.],\n",
            "        [17235.],\n",
            "        [ 4775.],\n",
            "        [ 5066.],\n",
            "        [18359.],\n",
            "        [ 6558.],\n",
            "        [11706.],\n",
            "        [ 9714.],\n",
            "        [ 1283.],\n",
            "        [19983.],\n",
            "        [17126.],\n",
            "        [16342.],\n",
            "        [13572.],\n",
            "        [ 4867.],\n",
            "        [13102.],\n",
            "        [19884.],\n",
            "        [13897.],\n",
            "        [13758.],\n",
            "        [  513.],\n",
            "        [ 7390.],\n",
            "        [ 6485.],\n",
            "        [ 7101.],\n",
            "        [ 2232.],\n",
            "        [ 4691.],\n",
            "        [10949.],\n",
            "        [ 4859.],\n",
            "        [18677.],\n",
            "        [ 4018.],\n",
            "        [17554.],\n",
            "        [10678.],\n",
            "        [ 9573.],\n",
            "        [13229.],\n",
            "        [ 9763.],\n",
            "        [11931.],\n",
            "        [20748.],\n",
            "        [ 7832.],\n",
            "        [20066.],\n",
            "        [ 2842.],\n",
            "        [11667.],\n",
            "        [ 3928.],\n",
            "        [20876.],\n",
            "        [ 6426.],\n",
            "        [ 7634.],\n",
            "        [10472.],\n",
            "        [ 6809.],\n",
            "        [ 5706.],\n",
            "        [ 7421.],\n",
            "        [20492.],\n",
            "        [ 5921.],\n",
            "        [ 4676.],\n",
            "        [19955.],\n",
            "        [ 8398.],\n",
            "        [ 6778.],\n",
            "        [12770.],\n",
            "        [ 9447.],\n",
            "        [13645.],\n",
            "        [  176.],\n",
            "        [11292.],\n",
            "        [ 2476.],\n",
            "        [15399.],\n",
            "        [ 2422.],\n",
            "        [20542.],\n",
            "        [20207.],\n",
            "        [16741.],\n",
            "        [ 5443.],\n",
            "        [ 1367.],\n",
            "        [13945.],\n",
            "        [19376.],\n",
            "        [  762.],\n",
            "        [ 6676.],\n",
            "        [ 3119.],\n",
            "        [19140.]])\n",
            "targets: tensor([[ 2.],\n",
            "        [ 6.],\n",
            "        [ 4.],\n",
            "        [ 2.],\n",
            "        [ 5.],\n",
            "        [ 2.],\n",
            "        [ 5.],\n",
            "        [ 1.],\n",
            "        [ 5.],\n",
            "        [ 4.],\n",
            "        [ 4.],\n",
            "        [10.],\n",
            "        [ 1.],\n",
            "        [ 7.],\n",
            "        [ 4.],\n",
            "        [ 4.],\n",
            "        [10.],\n",
            "        [ 1.],\n",
            "        [ 9.],\n",
            "        [ 4.],\n",
            "        [ 4.],\n",
            "        [ 4.],\n",
            "        [ 2.],\n",
            "        [ 7.],\n",
            "        [ 4.],\n",
            "        [ 2.],\n",
            "        [ 2.],\n",
            "        [ 8.],\n",
            "        [ 4.],\n",
            "        [ 2.],\n",
            "        [ 6.],\n",
            "        [ 0.],\n",
            "        [ 4.],\n",
            "        [ 4.],\n",
            "        [ 9.],\n",
            "        [ 7.],\n",
            "        [ 2.],\n",
            "        [ 6.],\n",
            "        [ 4.],\n",
            "        [ 1.],\n",
            "        [ 7.],\n",
            "        [ 4.],\n",
            "        [ 6.],\n",
            "        [ 5.],\n",
            "        [ 4.],\n",
            "        [ 2.],\n",
            "        [ 8.],\n",
            "        [ 2.],\n",
            "        [ 4.],\n",
            "        [ 4.],\n",
            "        [ 8.],\n",
            "        [ 4.],\n",
            "        [ 2.],\n",
            "        [ 4.],\n",
            "        [ 4.],\n",
            "        [10.],\n",
            "        [ 4.],\n",
            "        [ 1.],\n",
            "        [ 2.],\n",
            "        [ 0.],\n",
            "        [ 4.],\n",
            "        [ 7.],\n",
            "        [ 4.],\n",
            "        [10.],\n",
            "        [10.],\n",
            "        [ 4.],\n",
            "        [ 4.],\n",
            "        [ 4.],\n",
            "        [ 4.],\n",
            "        [ 4.],\n",
            "        [ 5.],\n",
            "        [ 4.],\n",
            "        [ 2.],\n",
            "        [ 7.],\n",
            "        [10.],\n",
            "        [ 0.],\n",
            "        [ 4.]])\n"
          ],
          "name": "stdout"
        }
      ]
    },
    {
      "cell_type": "markdown",
      "metadata": {
        "id": "b4_8F89C8fhm"
      },
      "source": [
        "**Create a Linear Regression**"
      ]
    },
    {
      "cell_type": "code",
      "metadata": {
        "colab": {
          "base_uri": "https://localhost:8080/"
        },
        "id": "O595OtxJ8hyn",
        "outputId": "f00d6df0-5a18-4292-89a8-83cfebc65dce"
      },
      "source": [
        "input_size = len(input_cols)\n",
        "print(input_size)\n",
        "\n",
        "output_size = len(output_cols)\n",
        "print(output_size)\n",
        "\n",
        "input_size,output_size"
      ],
      "execution_count": 134,
      "outputs": [
        {
          "output_type": "stream",
          "text": [
            "1\n",
            "1\n"
          ],
          "name": "stdout"
        },
        {
          "output_type": "execute_result",
          "data": {
            "text/plain": [
              "(1, 1)"
            ]
          },
          "metadata": {
            "tags": []
          },
          "execution_count": 134
        }
      ]
    },
    {
      "cell_type": "code",
      "metadata": {
        "id": "uQUIkYeC8oLK"
      },
      "source": [
        "class InsuranceModel(nn.Module):\n",
        "    def __init__(self):\n",
        "        super().__init__()\n",
        "        self.linear = nn.Linear(input_size, output_size)      # fill this (hint: use input_size & output_size defined above)\n",
        "        \n",
        "    def forward(self, xb):\n",
        "        out = self.linear(xb)                                 # fill this\n",
        "        return out\n",
        "    \n",
        "    def training_step(self, batch):\n",
        "        inputs, targets = batch \n",
        "        # Generate predictions\n",
        "        out = self(inputs)          \n",
        "        # Calcuate loss\n",
        "        loss = F.smooth_l1_loss(out, targets)                 # fill this\n",
        "        return loss\n",
        "    \n",
        "    def validation_step(self, batch):\n",
        "        inputs, targets = batch\n",
        "        # Generate predictions\n",
        "        out = self(inputs)\n",
        "        # Calculate loss\n",
        "        loss = F.smooth_l1_loss(out, targets)                # fill this    \n",
        "        return {'val_loss': loss.detach()}\n",
        "        \n",
        "    def validation_epoch_end(self, outputs):\n",
        "        batch_losses = [x['val_loss'] for x in outputs]\n",
        "        epoch_loss = torch.stack(batch_losses).mean()   # Combine losses\n",
        "        return {'val_loss': epoch_loss.item()}\n",
        "    \n",
        "    def epoch_end(self, epoch, result, num_epochs):\n",
        "        # Print result every 20th epoch\n",
        "        if (epoch+1) % 20 == 0 or epoch == num_epochs-1:\n",
        "            print(\"Epoch [{}], val_loss: {:.4f}\".format(epoch+1, result['val_loss']))"
      ],
      "execution_count": 135,
      "outputs": []
    },
    {
      "cell_type": "code",
      "metadata": {
        "id": "RpbDm1SE8xL2"
      },
      "source": [
        "model = InsuranceModel()"
      ],
      "execution_count": 136,
      "outputs": []
    },
    {
      "cell_type": "code",
      "metadata": {
        "colab": {
          "base_uri": "https://localhost:8080/"
        },
        "id": "c-ymcuSD9BHI",
        "outputId": "dafd45e8-1f29-4027-cad3-d19c92cf8617"
      },
      "source": [
        "list(model.parameters())"
      ],
      "execution_count": 137,
      "outputs": [
        {
          "output_type": "execute_result",
          "data": {
            "text/plain": [
              "[Parameter containing:\n",
              " tensor([[0.4062]], requires_grad=True), Parameter containing:\n",
              " tensor([-0.2939], requires_grad=True)]"
            ]
          },
          "metadata": {
            "tags": []
          },
          "execution_count": 137
        }
      ]
    },
    {
      "cell_type": "markdown",
      "metadata": {
        "id": "QppR3T6f9cwJ"
      },
      "source": [
        "**Train the model to fit the**"
      ]
    },
    {
      "cell_type": "code",
      "metadata": {
        "id": "925FJ6Lk9XeO"
      },
      "source": [
        "def evaluate(model, val_loader):\n",
        "    outputs = [model.validation_step(batch) for batch in val_loader]\n",
        "    return model.validation_epoch_end(outputs)\n",
        "\n",
        "def fit(epochs, lr, model, train_loader, val_loader, opt_func=torch.optim.SGD):\n",
        "    history = []\n",
        "    optimizer = opt_func(model.parameters(), lr)\n",
        "    for epoch in range(epochs):\n",
        "        # Training Phase \n",
        "        for batch in train_loader:\n",
        "            loss = model.training_step(batch)\n",
        "            loss.backward()\n",
        "            optimizer.step()\n",
        "            optimizer.zero_grad()\n",
        "        # Validation phase\n",
        "        result = evaluate(model, val_loader)\n",
        "        model.epoch_end(epoch, result, epochs)\n",
        "        history.append(result)\n",
        "    return history"
      ],
      "execution_count": 138,
      "outputs": []
    },
    {
      "cell_type": "code",
      "metadata": {
        "colab": {
          "base_uri": "https://localhost:8080/"
        },
        "id": "kkZrJrkz9rtK",
        "outputId": "d78924b1-9901-41c6-a547-d19ee045dfa0"
      },
      "source": [
        "result = evaluate(model, val_loader) # Use the the evaluate function\n",
        "print(result)"
      ],
      "execution_count": 139,
      "outputs": [
        {
          "output_type": "stream",
          "text": [
            "{'val_loss': 4227.95458984375}\n"
          ],
          "name": "stdout"
        }
      ]
    },
    {
      "cell_type": "code",
      "metadata": {
        "colab": {
          "base_uri": "https://localhost:8080/"
        },
        "id": "kbQaVxLd9yw7",
        "outputId": "7f98652c-e05c-407c-ea1b-e03296b8160c"
      },
      "source": [
        "epochs = 500\n",
        "lr = 1e-5\n",
        "history1 = fit(epochs, lr, model, train_loader, val_loader)"
      ],
      "execution_count": 140,
      "outputs": [
        {
          "output_type": "stream",
          "text": [
            "Epoch [20], val_loss: 939.5521\n",
            "Epoch [40], val_loss: 262.0019\n",
            "Epoch [60], val_loss: 305.2441\n",
            "Epoch [80], val_loss: 813.5555\n",
            "Epoch [100], val_loss: 1113.0909\n",
            "Epoch [120], val_loss: 1179.0167\n",
            "Epoch [140], val_loss: 257.7660\n",
            "Epoch [160], val_loss: 994.1439\n",
            "Epoch [180], val_loss: 489.8466\n",
            "Epoch [200], val_loss: 836.9314\n",
            "Epoch [220], val_loss: 874.9063\n",
            "Epoch [240], val_loss: 120.7132\n",
            "Epoch [260], val_loss: 481.1763\n",
            "Epoch [280], val_loss: 1152.6600\n",
            "Epoch [300], val_loss: 770.4340\n",
            "Epoch [320], val_loss: 688.1262\n",
            "Epoch [340], val_loss: 538.5106\n",
            "Epoch [360], val_loss: 899.7886\n",
            "Epoch [380], val_loss: 863.2620\n",
            "Epoch [400], val_loss: 595.8823\n",
            "Epoch [420], val_loss: 675.8407\n",
            "Epoch [440], val_loss: 82.6953\n",
            "Epoch [460], val_loss: 315.4653\n",
            "Epoch [480], val_loss: 172.8700\n",
            "Epoch [500], val_loss: 297.2729\n"
          ],
          "name": "stdout"
        }
      ]
    },
    {
      "cell_type": "code",
      "metadata": {
        "id": "Iv9-otX0-Y30",
        "outputId": "4c2503b9-ba94-4b98-d67d-a3d847e7c358",
        "colab": {
          "base_uri": "https://localhost:8080/"
        }
      },
      "source": [
        "epochs = 400\n",
        "lr = 1e-6\n",
        "history2 = fit(epochs, lr, model, train_loader, val_loader)"
      ],
      "execution_count": 141,
      "outputs": [
        {
          "output_type": "stream",
          "text": [
            "Epoch [20], val_loss: 64.4841\n",
            "Epoch [40], val_loss: 2.5388\n",
            "Epoch [60], val_loss: 67.0068\n",
            "Epoch [80], val_loss: 48.4804\n",
            "Epoch [100], val_loss: 92.3848\n",
            "Epoch [120], val_loss: 3.8264\n",
            "Epoch [140], val_loss: 71.5084\n",
            "Epoch [160], val_loss: 36.0599\n",
            "Epoch [180], val_loss: 39.9007\n",
            "Epoch [200], val_loss: 30.0296\n",
            "Epoch [220], val_loss: 36.8200\n",
            "Epoch [240], val_loss: 66.6297\n",
            "Epoch [260], val_loss: 47.7301\n",
            "Epoch [280], val_loss: 48.2811\n",
            "Epoch [300], val_loss: 46.2115\n",
            "Epoch [320], val_loss: 41.0419\n",
            "Epoch [340], val_loss: 98.6793\n",
            "Epoch [360], val_loss: 53.9997\n",
            "Epoch [380], val_loss: 51.4336\n",
            "Epoch [400], val_loss: 41.4321\n"
          ],
          "name": "stdout"
        }
      ]
    },
    {
      "cell_type": "code",
      "metadata": {
        "id": "utcDsEe4-ae2",
        "outputId": "60e7841d-ebc3-43b5-95f5-71672c00f8cc",
        "colab": {
          "base_uri": "https://localhost:8080/"
        }
      },
      "source": [
        "epochs = 700\n",
        "lr = 1e-2\n",
        "history4 = fit(epochs, lr, model, train_loader, val_loader)"
      ],
      "execution_count": 142,
      "outputs": [
        {
          "output_type": "stream",
          "text": [
            "Epoch [20], val_loss: 452810.0938\n",
            "Epoch [40], val_loss: 277500.4062\n",
            "Epoch [60], val_loss: 411404.1875\n",
            "Epoch [80], val_loss: 738247.3750\n",
            "Epoch [100], val_loss: 597202.2500\n",
            "Epoch [120], val_loss: 632125.0000\n",
            "Epoch [140], val_loss: 156670.9531\n",
            "Epoch [160], val_loss: 787325.9375\n",
            "Epoch [180], val_loss: 700656.5000\n",
            "Epoch [200], val_loss: 921732.2500\n",
            "Epoch [220], val_loss: 558130.6250\n",
            "Epoch [240], val_loss: 439503.9062\n",
            "Epoch [260], val_loss: 228249.5625\n",
            "Epoch [280], val_loss: 706268.8750\n",
            "Epoch [300], val_loss: 664565.6250\n",
            "Epoch [320], val_loss: 758613.2500\n",
            "Epoch [340], val_loss: 646161.0625\n",
            "Epoch [360], val_loss: 518641.9688\n",
            "Epoch [380], val_loss: 1059828.3750\n",
            "Epoch [400], val_loss: 442308.3438\n",
            "Epoch [420], val_loss: 160150.8438\n",
            "Epoch [440], val_loss: 534436.6250\n",
            "Epoch [460], val_loss: 1001479.1875\n",
            "Epoch [480], val_loss: 904009.8125\n",
            "Epoch [500], val_loss: 70768.9297\n",
            "Epoch [520], val_loss: 255111.8281\n",
            "Epoch [540], val_loss: 433632.9375\n",
            "Epoch [560], val_loss: 618147.0625\n",
            "Epoch [580], val_loss: 825440.6250\n",
            "Epoch [600], val_loss: 1015731.3125\n",
            "Epoch [620], val_loss: 1135329.3750\n",
            "Epoch [640], val_loss: 432791.8750\n",
            "Epoch [660], val_loss: 113611.7031\n",
            "Epoch [680], val_loss: 136889.5000\n",
            "Epoch [700], val_loss: 79530.6172\n"
          ],
          "name": "stdout"
        }
      ]
    },
    {
      "cell_type": "code",
      "metadata": {
        "id": "Nw-DUBpK-e2V",
        "outputId": "af05bbdb-da86-484a-9e22-7c37e16377d1",
        "colab": {
          "base_uri": "https://localhost:8080/",
          "height": 355
        }
      },
      "source": [
        "loss = []\n",
        "for value in history4:\n",
        "#     print(value)\n",
        "    loss.append(value['val_loss'])\n",
        "plt.plot(loss)"
      ],
      "execution_count": 143,
      "outputs": [
        {
          "output_type": "execute_result",
          "data": {
            "text/plain": [
              "[<matplotlib.lines.Line2D at 0x7fce49ce2790>]"
            ]
          },
          "metadata": {
            "tags": []
          },
          "execution_count": 143
        },
        {
          "output_type": "display_data",
          "data": {
            "image/png": "[encoded data removed]",
            "text/plain": [
              "<Figure size 648x360 with 1 Axes>"
            ]
          },
          "metadata": {
            "tags": [],
            "needs_background": "light"
          }
        }
      ]
    },
    {
      "cell_type": "code",
      "metadata": {
        "id": "3o6bCgyt-lSc",
        "outputId": "94167a9b-84b5-4707-d9d8-42e19d1c8c44",
        "colab": {
          "base_uri": "https://localhost:8080/"
        }
      },
      "source": [
        "val_loss = 8376.0850\n",
        "\n",
        "print(val_loss)"
      ],
      "execution_count": 144,
      "outputs": [
        {
          "output_type": "stream",
          "text": [
            "8376.085\n"
          ],
          "name": "stdout"
        }
      ]
    },
    {
      "cell_type": "markdown",
      "metadata": {
        "id": "Ndutq6t8-w_H"
      },
      "source": [
        "**Make predictions using the trained**"
      ]
    },
    {
      "cell_type": "code",
      "metadata": {
        "id": "FwRoC4fh-74V"
      },
      "source": [
        "def predict_single(input, target, model):\n",
        "    inputs = input.unsqueeze(0)\n",
        "    predictions = model(inputs)                # fill this\n",
        "    prediction = predictions[0].detach()\n",
        "    print(\"Input:\", input)\n",
        "    print(\"Target:\", target)\n",
        "    print(\"Prediction:\", prediction)"
      ],
      "execution_count": 145,
      "outputs": []
    },
    {
      "cell_type": "code",
      "metadata": {
        "id": "nARCNDyS_ASr",
        "outputId": "0b5b70c9-a8b4-44fd-f06c-926fc1f643f9",
        "colab": {
          "base_uri": "https://localhost:8080/"
        }
      },
      "source": [
        "input, target = val_ds[0]\n",
        "predict_single(input, target, model)"
      ],
      "execution_count": 146,
      "outputs": [
        {
          "output_type": "stream",
          "text": [
            "Input: tensor([9162.])\n",
            "Target: tensor([4.])\n",
            "Prediction: tensor([-69925.2891])\n"
          ],
          "name": "stdout"
        }
      ]
    },
    {
      "cell_type": "code",
      "metadata": {
        "id": "DFwlkiyk_ENy",
        "outputId": "0d3a7401-f3b7-4f91-871f-1087ed89687f",
        "colab": {
          "base_uri": "https://localhost:8080/"
        }
      },
      "source": [
        "input, target = val_ds[10]\n",
        "predict_single(input, target, model)"
      ],
      "execution_count": 147,
      "outputs": [
        {
          "output_type": "stream",
          "text": [
            "Input: tensor([18553.])\n",
            "Target: tensor([10.])\n",
            "Prediction: tensor([-141597.9062])\n"
          ],
          "name": "stdout"
        }
      ]
    },
    {
      "cell_type": "code",
      "metadata": {
        "id": "3fjw_sqH_Iif",
        "outputId": "5ed2068d-7664-4c6e-c041-e659684e0b00",
        "colab": {
          "base_uri": "https://localhost:8080/"
        }
      },
      "source": [
        "input, target = val_ds[23]\n",
        "predict_single(input, target, model)"
      ],
      "execution_count": 148,
      "outputs": [
        {
          "output_type": "stream",
          "text": [
            "Input: tensor([14072.])\n",
            "Target: tensor([4.])\n",
            "Prediction: tensor([-107398.6719])\n"
          ],
          "name": "stdout"
        }
      ]
    },
    {
      "cell_type": "code",
      "metadata": {
        "id": "BU4Ff6Tu_I9E"
      },
      "source": [
        ""
      ],
      "execution_count": 148,
      "outputs": []
    }
  ]
}